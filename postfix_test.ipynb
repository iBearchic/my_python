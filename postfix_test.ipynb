{
 "cells": [
  {
   "cell_type": "code",
   "execution_count": 1,
   "metadata": {},
   "outputs": [
    {
     "data": {
      "text/plain": [
       "TestResults(failed=0, attempted=2)"
      ]
     },
     "execution_count": 1,
     "metadata": {},
     "output_type": "execute_result"
    }
   ],
   "source": [
    "def calc(expr):\n",
    "    '''\n",
    "    >>> calc(\"1 2 + 4 * 3 +\")\n",
    "    '15'\n",
    "    \n",
    "    >>> calc(\"1 2 3 * + 2 -\")\n",
    "    '5'\n",
    "    '''\n",
    "    \n",
    "    from operator import add, sub, mul\n",
    "    di={'+': add,'-': sub,'*': mul}\n",
    "    k=[]\n",
    "    s=expr.split()\n",
    "    \n",
    "    for i in range(len(s)):\n",
    "        if s[i].isdigit():\n",
    "            k.append(int(s[i]))\n",
    "        else:\n",
    "            a=k.pop()\n",
    "            b=k.pop()\n",
    "            k.append(di[s[i]](b,a))\n",
    "    return str(k[0])\n",
    "import doctest\n",
    "doctest.testmod()"
   ]
  },
  {
   "cell_type": "code",
   "execution_count": null,
   "metadata": {},
   "outputs": [],
   "source": []
  }
 ],
 "metadata": {
  "kernelspec": {
   "display_name": "Python 3",
   "language": "python",
   "name": "python3"
  },
  "language_info": {
   "codemirror_mode": {
    "name": "ipython",
    "version": 3
   },
   "file_extension": ".py",
   "mimetype": "text/x-python",
   "name": "python",
   "nbconvert_exporter": "python",
   "pygments_lexer": "ipython3",
   "version": "3.7.4"
  }
 },
 "nbformat": 4,
 "nbformat_minor": 4
}
