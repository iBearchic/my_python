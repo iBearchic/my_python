{
 "cells": [
  {
   "cell_type": "code",
   "execution_count": 1,
   "metadata": {},
   "outputs": [
    {
     "name": "stdin",
     "output_type": "stream",
     "text": [
      "Укажите число:  1\n",
      "Сформулировать задачу:  купить хлеб\n",
      "Добавить категорию:  покупки\n",
      "Добавить дату:  12.02.2020\n",
      "Укажите число:  1\n",
      "Сформулировать задачу:  сходить в универ\n",
      "Добавить категорию:  учеба\n",
      "Добавить дату:  завтра\n",
      "Укажите число:  2\n"
     ]
    },
    {
     "name": "stdout",
     "output_type": "stream",
     "text": [
      "Задача:  купить хлеб\n",
      "Категория:  покупки\n",
      "Дата:  12.02.2020\n",
      "Задача:  сходить в универ\n",
      "Категория:  учеба\n",
      "Дата:  завтра\n"
     ]
    },
    {
     "name": "stdin",
     "output_type": "stream",
     "text": [
      "Укажите число:  3\n"
     ]
    }
   ],
   "source": [
    "dicc={\"Задача\": [],\n",
    "      \"Категория\": [],\n",
    "      \"Дата\": [], \"k\": 0}\n",
    "\n",
    "while True:\n",
    "    x=int(input(\"Укажите число: \"))\n",
    "    \n",
    "    if x==3:\n",
    "        break\n",
    "    elif x==1:\n",
    "        t1=input(\"Сформулировать задачу: \")\n",
    "        k1=input(\"Добавить категорию: \")\n",
    "        d1=input(\"Добавить дату: \")\n",
    "        dicc[\"Задача\"].append(t1)\n",
    "        dicc[\"Категория\"].append(k1)\n",
    "        dicc[\"Дата\"].append(d1)\n",
    "        dicc[\"k\"]+=1\n",
    "    else:\n",
    "        for i in range(dicc[\"k\"]):\n",
    "            print(\"Задача: \", dicc[\"Задача\"][i])\n",
    "            print(\"Категория: \",dicc[\"Категория\"][i])\n",
    "            print(\"Дата: \",dicc[\"Дата\"][i])\n",
    "    "
   ]
  },
  {
   "cell_type": "code",
   "execution_count": null,
   "metadata": {},
   "outputs": [],
   "source": []
  }
 ],
 "metadata": {
  "kernelspec": {
   "display_name": "Python 3",
   "language": "python",
   "name": "python3"
  },
  "language_info": {
   "codemirror_mode": {
    "name": "ipython",
    "version": 3
   },
   "file_extension": ".py",
   "mimetype": "text/x-python",
   "name": "python",
   "nbconvert_exporter": "python",
   "pygments_lexer": "ipython3",
   "version": "3.7.4"
  }
 },
 "nbformat": 4,
 "nbformat_minor": 4
}
