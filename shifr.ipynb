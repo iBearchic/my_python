{
 "cells": [
  {
   "cell_type": "code",
   "execution_count": 17,
   "metadata": {},
   "outputs": [],
   "source": [
    "def enc(txt):\n",
    "    try:\n",
    "        trantab=str.maketrans({\"A\" : \"%\" , \"a\" : \"9\" , \"B\" : \"@\", \"6\" : \"#\"})\n",
    "        with open(txt,\"r\") as reader, open(\"encode1.txt\",\"w\") as writer:\n",
    "            text=reader.read()\n",
    "            textc=text.translate(trantab)\n",
    "            writer.write(textc)\n",
    "    except FileNotFoundError:\n",
    "        print(\"Файл для кодировки не найден\")"
   ]
  },
  {
   "cell_type": "code",
   "execution_count": 20,
   "metadata": {},
   "outputs": [],
   "source": [
    "def dec(txt):\n",
    "    try:\n",
    "        trantab=str.maketrans({\"%\": \"A\", \"9\" :\"a\" , \"@\": \"B\",\"#\": \"6\"})\n",
    "        with open(txt,\"r\") as reader, open(\"decode1.txt\",\"w\") as writer:\n",
    "            text=reader.read()\n",
    "            textc=text.translate(trantab)\n",
    "            writer.write(textc)\n",
    "    except FileNotFoundError:\n",
    "        print(\"Файл для декодировки не найден\")"
   ]
  },
  {
   "cell_type": "code",
   "execution_count": null,
   "metadata": {},
   "outputs": [],
   "source": []
  }
 ],
 "metadata": {
  "kernelspec": {
   "display_name": "Python 3",
   "language": "python",
   "name": "python3"
  },
  "language_info": {
   "codemirror_mode": {
    "name": "ipython",
    "version": 3
   },
   "file_extension": ".py",
   "mimetype": "text/x-python",
   "name": "python",
   "nbconvert_exporter": "python",
   "pygments_lexer": "ipython3",
   "version": "3.7.4"
  }
 },
 "nbformat": 4,
 "nbformat_minor": 4
}
