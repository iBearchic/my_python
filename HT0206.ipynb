{
 "cells": [
  {
   "cell_type": "code",
   "execution_count": 81,
   "metadata": {},
   "outputs": [
    {
     "data": {
      "text/html": [
       "<div>\n",
       "<style scoped>\n",
       "    .dataframe tbody tr th:only-of-type {\n",
       "        vertical-align: middle;\n",
       "    }\n",
       "\n",
       "    .dataframe tbody tr th {\n",
       "        vertical-align: top;\n",
       "    }\n",
       "\n",
       "    .dataframe thead th {\n",
       "        text-align: right;\n",
       "    }\n",
       "</style>\n",
       "<table border=\"1\" class=\"dataframe\">\n",
       "  <thead>\n",
       "    <tr style=\"text-align: right;\">\n",
       "      <th></th>\n",
       "      <th>Дата</th>\n",
       "      <th>Критерий</th>\n",
       "      <th>Парам. №1</th>\n",
       "      <th>Парам. №2</th>\n",
       "      <th>Значение</th>\n",
       "    </tr>\n",
       "  </thead>\n",
       "  <tbody>\n",
       "    <tr>\n",
       "      <td>0</td>\n",
       "      <td>15.03.2020</td>\n",
       "      <td>views</td>\n",
       "      <td>NaN</td>\n",
       "      <td>NaN</td>\n",
       "      <td>4</td>\n",
       "    </tr>\n",
       "    <tr>\n",
       "      <td>1</td>\n",
       "      <td>15.03.2020</td>\n",
       "      <td>visitors</td>\n",
       "      <td>NaN</td>\n",
       "      <td>NaN</td>\n",
       "      <td>3</td>\n",
       "    </tr>\n",
       "    <tr>\n",
       "      <td>2</td>\n",
       "      <td>15.03.2020</td>\n",
       "      <td>gender</td>\n",
       "      <td>М</td>\n",
       "      <td>NaN</td>\n",
       "      <td>3</td>\n",
       "    </tr>\n",
       "    <tr>\n",
       "      <td>3</td>\n",
       "      <td>15.03.2020</td>\n",
       "      <td>age</td>\n",
       "      <td>24-27</td>\n",
       "      <td>NaN</td>\n",
       "      <td>1</td>\n",
       "    </tr>\n",
       "    <tr>\n",
       "      <td>4</td>\n",
       "      <td>15.03.2020</td>\n",
       "      <td>age</td>\n",
       "      <td>30-35</td>\n",
       "      <td>NaN</td>\n",
       "      <td>2</td>\n",
       "    </tr>\n",
       "    <tr>\n",
       "      <td>5</td>\n",
       "      <td>15.03.2020</td>\n",
       "      <td>gender_age</td>\n",
       "      <td>М</td>\n",
       "      <td>24-27</td>\n",
       "      <td>1</td>\n",
       "    </tr>\n",
       "    <tr>\n",
       "      <td>6</td>\n",
       "      <td>15.03.2020</td>\n",
       "      <td>gender_age</td>\n",
       "      <td>М</td>\n",
       "      <td>30-35</td>\n",
       "      <td>2</td>\n",
       "    </tr>\n",
       "    <tr>\n",
       "      <td>7</td>\n",
       "      <td>15.03.2020</td>\n",
       "      <td>cities</td>\n",
       "      <td>Хабаровск</td>\n",
       "      <td>NaN</td>\n",
       "      <td>1</td>\n",
       "    </tr>\n",
       "    <tr>\n",
       "      <td>8</td>\n",
       "      <td>15.03.2020</td>\n",
       "      <td>cities</td>\n",
       "      <td>Оренбург</td>\n",
       "      <td>NaN</td>\n",
       "      <td>1</td>\n",
       "    </tr>\n",
       "    <tr>\n",
       "      <td>9</td>\n",
       "      <td>15.03.2020</td>\n",
       "      <td>countries</td>\n",
       "      <td>Россия</td>\n",
       "      <td>NaN</td>\n",
       "      <td>3</td>\n",
       "    </tr>\n",
       "    <tr>\n",
       "      <td>10</td>\n",
       "      <td>14.03.2020</td>\n",
       "      <td>views</td>\n",
       "      <td>NaN</td>\n",
       "      <td>NaN</td>\n",
       "      <td>14</td>\n",
       "    </tr>\n",
       "    <tr>\n",
       "      <td>11</td>\n",
       "      <td>14.03.2020</td>\n",
       "      <td>visitors</td>\n",
       "      <td>NaN</td>\n",
       "      <td>NaN</td>\n",
       "      <td>10</td>\n",
       "    </tr>\n",
       "    <tr>\n",
       "      <td>12</td>\n",
       "      <td>14.03.2020</td>\n",
       "      <td>gender</td>\n",
       "      <td>Ж</td>\n",
       "      <td>NaN</td>\n",
       "      <td>1</td>\n",
       "    </tr>\n",
       "    <tr>\n",
       "      <td>13</td>\n",
       "      <td>14.03.2020</td>\n",
       "      <td>gender</td>\n",
       "      <td>М</td>\n",
       "      <td>NaN</td>\n",
       "      <td>8</td>\n",
       "    </tr>\n",
       "    <tr>\n",
       "      <td>14</td>\n",
       "      <td>14.03.2020</td>\n",
       "      <td>age</td>\n",
       "      <td>24-27</td>\n",
       "      <td>NaN</td>\n",
       "      <td>1</td>\n",
       "    </tr>\n",
       "    <tr>\n",
       "      <td>15</td>\n",
       "      <td>14.03.2020</td>\n",
       "      <td>age</td>\n",
       "      <td>27-30</td>\n",
       "      <td>NaN</td>\n",
       "      <td>4</td>\n",
       "    </tr>\n",
       "    <tr>\n",
       "      <td>16</td>\n",
       "      <td>14.03.2020</td>\n",
       "      <td>age</td>\n",
       "      <td>30-35</td>\n",
       "      <td>NaN</td>\n",
       "      <td>1</td>\n",
       "    </tr>\n",
       "    <tr>\n",
       "      <td>17</td>\n",
       "      <td>14.03.2020</td>\n",
       "      <td>age</td>\n",
       "      <td>35-45</td>\n",
       "      <td>NaN</td>\n",
       "      <td>1</td>\n",
       "    </tr>\n",
       "    <tr>\n",
       "      <td>18</td>\n",
       "      <td>14.03.2020</td>\n",
       "      <td>gender_age</td>\n",
       "      <td>Ж</td>\n",
       "      <td>24-27</td>\n",
       "      <td>1</td>\n",
       "    </tr>\n",
       "    <tr>\n",
       "      <td>19</td>\n",
       "      <td>14.03.2020</td>\n",
       "      <td>gender_age</td>\n",
       "      <td>М</td>\n",
       "      <td>27-30</td>\n",
       "      <td>4</td>\n",
       "    </tr>\n",
       "  </tbody>\n",
       "</table>\n",
       "</div>"
      ],
      "text/plain": [
       "          Дата    Критерий  Парам. №1 Парам. №2  Значение\n",
       "0   15.03.2020       views        NaN       NaN         4\n",
       "1   15.03.2020    visitors        NaN       NaN         3\n",
       "2   15.03.2020      gender          М       NaN         3\n",
       "3   15.03.2020         age      24-27       NaN         1\n",
       "4   15.03.2020         age      30-35       NaN         2\n",
       "5   15.03.2020  gender_age          М     24-27         1\n",
       "6   15.03.2020  gender_age          М     30-35         2\n",
       "7   15.03.2020      cities  Хабаровск       NaN         1\n",
       "8   15.03.2020      cities   Оренбург       NaN         1\n",
       "9   15.03.2020   countries     Россия       NaN         3\n",
       "10  14.03.2020       views        NaN       NaN        14\n",
       "11  14.03.2020    visitors        NaN       NaN        10\n",
       "12  14.03.2020      gender          Ж       NaN         1\n",
       "13  14.03.2020      gender          М       NaN         8\n",
       "14  14.03.2020         age      24-27       NaN         1\n",
       "15  14.03.2020         age      27-30       NaN         4\n",
       "16  14.03.2020         age      30-35       NaN         1\n",
       "17  14.03.2020         age      35-45       NaN         1\n",
       "18  14.03.2020  gender_age          Ж     24-27         1\n",
       "19  14.03.2020  gender_age          М     27-30         4"
      ]
     },
     "execution_count": 81,
     "metadata": {},
     "output_type": "execute_result"
    }
   ],
   "source": [
    "import pandas as pd\n",
    "%matplotlib inline\n",
    "import matplotlib.pyplot as plt\n",
    "df = pd.read_csv(\"https://raw.githubusercontent.com/dm-fedorov/python_basic/master/data/vkontakte_group_01_2016-08-01_2020-03-15.csv\")\n",
    "df.head(20)\n"
   ]
  },
  {
   "cell_type": "code",
   "execution_count": 22,
   "metadata": {},
   "outputs": [
    {
     "name": "stderr",
     "output_type": "stream",
     "text": [
      "C:\\Users\\user\\Anaconda3\\lib\\site-packages\\ipykernel_launcher.py:2: SettingWithCopyWarning: \n",
      "A value is trying to be set on a copy of a slice from a DataFrame.\n",
      "Try using .loc[row_indexer,col_indexer] = value instead\n",
      "\n",
      "See the caveats in the documentation: http://pandas.pydata.org/pandas-docs/stable/user_guide/indexing.html#returning-a-view-versus-a-copy\n",
      "  \n"
     ]
    },
    {
     "data": {
      "text/plain": [
       "Дата\n",
       "2017    11872\n",
       "2019     8754\n",
       "2016     7199\n",
       "2018     7055\n",
       "2020     1444\n",
       "Name: Значение, dtype: int64"
      ]
     },
     "execution_count": 22,
     "metadata": {},
     "output_type": "execute_result"
    }
   ],
   "source": [
    "vdf=df[df['Критерий']=='views']\n",
    "vdf['Дата']=vdf['Дата'].str[-4:]\n",
    "vdfpl=vdf.groupby(['Дата'])['Значение'].sum().sort_values(ascending=False)\n",
    "vdfpl"
   ]
  },
  {
   "cell_type": "code",
   "execution_count": 31,
   "metadata": {},
   "outputs": [
    {
     "data": {
      "image/png": "[encoded data removed]",
      "text/plain": [
       "<Figure size 432x288 with 1 Axes>"
      ]
     },
     "metadata": {
      "needs_background": "light"
     },
     "output_type": "display_data"
    }
   ],
   "source": [
    "plt.title('Суммарное число просмотров за последние 5 лет')\n",
    "\n",
    "vdfpl.plot.bar()\n",
    "\n",
    "plt.xlabel('Год')\n",
    "plt.ylabel('Число просмотров')\n",
    "ax = plt.gca()\n",
    "ax.tick_params(axis='x', colors='blue')\n",
    "ax.tick_params(axis='y', colors='green')\n",
    "plt.show()"
   ]
  },
  {
   "cell_type": "code",
   "execution_count": 32,
   "metadata": {},
   "outputs": [
    {
     "name": "stderr",
     "output_type": "stream",
     "text": [
      "C:\\Users\\user\\Anaconda3\\lib\\site-packages\\ipykernel_launcher.py:2: SettingWithCopyWarning: \n",
      "A value is trying to be set on a copy of a slice from a DataFrame.\n",
      "Try using .loc[row_indexer,col_indexer] = value instead\n",
      "\n",
      "See the caveats in the documentation: http://pandas.pydata.org/pandas-docs/stable/user_guide/indexing.html#returning-a-view-versus-a-copy\n",
      "  \n"
     ]
    },
    {
     "data": {
      "image/png": "[encoded data removed]",
      "text/plain": [
       "<Figure size 432x288 with 1 Axes>"
      ]
     },
     "metadata": {
      "needs_background": "light"
     },
     "output_type": "display_data"
    }
   ],
   "source": [
    "visitdb=df[df['Критерий']=='visitors']\n",
    "visitdb['Дата']=visitdb['Дата'].str[-4:]\n",
    "visitdbpl=visitdb.groupby(['Дата'])['Значение'].sum().sort_values(ascending=False)\n",
    "\n",
    "plt.title('Суммарная посещаемость за последние 5 лет')\n",
    "\n",
    "visitdbpl.plot.bar()\n",
    "\n",
    "plt.xlabel('Год')\n",
    "plt.ylabel('Число посещений')\n",
    "ax = plt.gca()\n",
    "ax.tick_params(axis='x', colors='blue')\n",
    "ax.tick_params(axis='y', colors='green')\n",
    "plt.show()"
   ]
  },
  {
   "cell_type": "code",
   "execution_count": 46,
   "metadata": {},
   "outputs": [
    {
     "name": "stderr",
     "output_type": "stream",
     "text": [
      "C:\\Users\\user\\Anaconda3\\lib\\site-packages\\ipykernel_launcher.py:2: SettingWithCopyWarning: \n",
      "A value is trying to be set on a copy of a slice from a DataFrame.\n",
      "Try using .loc[row_indexer,col_indexer] = value instead\n",
      "\n",
      "See the caveats in the documentation: http://pandas.pydata.org/pandas-docs/stable/user_guide/indexing.html#returning-a-view-versus-a-copy\n",
      "  \n"
     ]
    },
    {
     "data": {
      "image/png": "[encoded data removed]",
      "text/plain": [
       "<Figure size 432x288 with 1 Axes>"
      ]
     },
     "metadata": {
      "needs_background": "light"
     },
     "output_type": "display_data"
    },
    {
     "data": {
      "image/png": "[encoded data removed]",
      "text/plain": [
       "<Figure size 432x288 with 1 Axes>"
      ]
     },
     "metadata": {
      "needs_background": "light"
     },
     "output_type": "display_data"
    }
   ],
   "source": [
    "reachdb=df[df['Критерий']=='reach']\n",
    "reachdb['Дата']=reachdb['Дата'].str[-4:]\n",
    "reachdbpl=reachdb.groupby(['Дата'])['Значение'].sum().sort_values(ascending=False)\n",
    "\n",
    "plt.title('Суммарный охват за последние 5 лет')\n",
    "\n",
    "reachdbpl.plot.bar(color='red')\n",
    "ax = plt.gca()\n",
    "ax.tick_params(axis='x', colors='blue')\n",
    "ax.tick_params(axis='y', colors='green')\n",
    "\n",
    "plt.xlabel('Год')\n",
    "plt.ylabel('Охват')\n",
    "plt.show()\n",
    "\n",
    "plt.title('Суммарная посещаемость за последние 5 лет')\n",
    "\n",
    "visitdbpl.plot.bar()\n",
    "\n",
    "plt.xlabel('Год')\n",
    "plt.ylabel('Число посещений')\n",
    "ax = plt.gca()\n",
    "ax.tick_params(axis='x', colors='blue')\n",
    "ax.tick_params(axis='y', colors='green')\n",
    "plt.show()"
   ]
  },
  {
   "cell_type": "code",
   "execution_count": 61,
   "metadata": {},
   "outputs": [
    {
     "name": "stderr",
     "output_type": "stream",
     "text": [
      "C:\\Users\\user\\Anaconda3\\lib\\site-packages\\ipykernel_launcher.py:2: SettingWithCopyWarning: \n",
      "A value is trying to be set on a copy of a slice from a DataFrame.\n",
      "Try using .loc[row_indexer,col_indexer] = value instead\n",
      "\n",
      "See the caveats in the documentation: http://pandas.pydata.org/pandas-docs/stable/user_guide/indexing.html#returning-a-view-versus-a-copy\n",
      "  \n"
     ]
    },
    {
     "data": {
      "image/png": "[encoded data removed]",
      "text/plain": [
       "<Figure size 432x288 with 1 Axes>"
      ]
     },
     "metadata": {},
     "output_type": "display_data"
    }
   ],
   "source": [
    "genderdb=df[df['Критерий']=='gender']\n",
    "genderdb['Дата']=reachdb['Дата'].str[-4:]\n",
    "genderdbpl=genderdb.groupby(['Парам. №1'])['Значение'].sum().sort_values(ascending=False)\n",
    "\n",
    "\n",
    "plt.title('Соотношение мужчин/женщин')\n",
    "genderdbpl.plot.pie(autopct='%1.1f%%')\n",
    "plt.ylabel('')\n",
    "plt.show()"
   ]
  },
  {
   "cell_type": "code",
   "execution_count": 72,
   "metadata": {},
   "outputs": [
    {
     "name": "stderr",
     "output_type": "stream",
     "text": [
      "C:\\Users\\user\\Anaconda3\\lib\\site-packages\\ipykernel_launcher.py:2: SettingWithCopyWarning: \n",
      "A value is trying to be set on a copy of a slice from a DataFrame.\n",
      "Try using .loc[row_indexer,col_indexer] = value instead\n",
      "\n",
      "See the caveats in the documentation: http://pandas.pydata.org/pandas-docs/stable/user_guide/indexing.html#returning-a-view-versus-a-copy\n",
      "  \n",
      "C:\\Users\\user\\Anaconda3\\lib\\site-packages\\ipykernel_launcher.py:3: SettingWithCopyWarning: \n",
      "A value is trying to be set on a copy of a slice from a DataFrame.\n",
      "Try using .loc[row_indexer,col_indexer] = value instead\n",
      "\n",
      "See the caveats in the documentation: http://pandas.pydata.org/pandas-docs/stable/user_guide/indexing.html#returning-a-view-versus-a-copy\n",
      "  This is separate from the ipykernel package so we can avoid doing imports until\n"
     ]
    },
    {
     "data": {
      "image/png": "[encoded data removed]",
      "text/plain": [
       "<Figure size 432x288 with 1 Axes>"
      ]
     },
     "metadata": {
      "needs_background": "light"
     },
     "output_type": "display_data"
    }
   ],
   "source": [
    "agedb=df[df['Критерий']=='age']\n",
    "agedb['Дата']=agedb['Дата'].str[-4:]\n",
    "agedb['Парам. №1']=agedb['Парам. №1'].str[:2]\n",
    "agedbpl=agedb.groupby(['Парам. №1'])['Значение'].sum().drop(['1-'],axis=0)\n",
    "\n",
    "\n",
    "plt.title('Распределение по возрастам')\n",
    "\n",
    "agedbpl.plot.bar(color='green')\n",
    "\n",
    "plt.xlabel('Возраст')\n",
    "plt.ylabel('Количество посетителей')\n",
    "ax = plt.gca()\n",
    "ax.tick_params(axis='x', colors='blue')\n",
    "ax.tick_params(axis='y', colors='green')\n",
    "plt.show()"
   ]
  },
  {
   "cell_type": "code",
   "execution_count": 99,
   "metadata": {},
   "outputs": [
    {
     "name": "stderr",
     "output_type": "stream",
     "text": [
      "C:\\Users\\user\\Anaconda3\\lib\\site-packages\\ipykernel_launcher.py:2: SettingWithCopyWarning: \n",
      "A value is trying to be set on a copy of a slice from a DataFrame.\n",
      "Try using .loc[row_indexer,col_indexer] = value instead\n",
      "\n",
      "See the caveats in the documentation: http://pandas.pydata.org/pandas-docs/stable/user_guide/indexing.html#returning-a-view-versus-a-copy\n",
      "  \n"
     ]
    },
    {
     "data": {
      "image/png": "[encoded data removed]",
      "text/plain": [
       "<Figure size 432x288 with 1 Axes>"
      ]
     },
     "metadata": {
      "needs_background": "light"
     },
     "output_type": "display_data"
    }
   ],
   "source": [
    "countrydb=df[df['Критерий']=='countries']\n",
    "countrydb['Дата']=countrydb['Дата'].str[-4:]\n",
    "countrydbpl=countrydb.groupby(['Парам. №1'])['Значение'].sum().sort_values(ascending=False)\n",
    "countrydbpl1=countrydbpl.head(5)\n",
    "\n",
    "plt.title('ТОП-5 стран пользователей')\n",
    "\n",
    "countrydbpl1.plot.barh()\n",
    "\n",
    "plt.ylabel('Страна')\n",
    "plt.xlabel('Количество посетителей за 5 лет')\n",
    "ax = plt.gca()\n",
    "ax.tick_params(axis='x', colors='blue')\n",
    "ax.tick_params(axis='y', colors='green')\n",
    "plt.show()"
   ]
  },
  {
   "cell_type": "code",
   "execution_count": null,
   "metadata": {},
   "outputs": [],
   "source": []
  }
 ],
 "metadata": {
  "kernelspec": {
   "display_name": "Python 3",
   "language": "python",
   "name": "python3"
  },
  "language_info": {
   "codemirror_mode": {
    "name": "ipython",
    "version": 3
   },
   "file_extension": ".py",
   "mimetype": "text/x-python",
   "name": "python",
   "nbconvert_exporter": "python",
   "pygments_lexer": "ipython3",
   "version": "3.7.4"
  }
 },
 "nbformat": 4,
 "nbformat_minor": 4
}
