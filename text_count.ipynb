{
 "cells": [
  {
   "cell_type": "code",
   "execution_count": 2,
   "metadata": {},
   "outputs": [
    {
     "ename": "SyntaxError",
     "evalue": "invalid syntax (<ipython-input-2-6de70bcdb37c>, line 7)",
     "output_type": "error",
     "traceback": [
      "\u001b[1;36m  File \u001b[1;32m\"<ipython-input-2-6de70bcdb37c>\"\u001b[1;36m, line \u001b[1;32m7\u001b[0m\n\u001b[1;33m    text=reader.read().translate(trantab).translate(trantab1)\u001b[0m\n\u001b[1;37m       ^\u001b[0m\n\u001b[1;31mSyntaxError\u001b[0m\u001b[1;31m:\u001b[0m invalid syntax\n"
     ]
    }
   ],
   "source": [
    "def text_count(txt):\n",
    "    try:\n",
    "        trantab=str.maketrans(\"\",\"\",\",.?!;:-\")\n",
    "        trantab1=str.maketrans({\"\\n\": None})\n",
    "        with open(txt,\"r\") as reader:\n",
    "            text_l=list(map(lambda x: x.translate(trantab).translate(trantab1), reader.readlines())\n",
    "            text=reader.read().translate(trantab).translate(trantab1)\n",
    "            text_l_split=list(map(lambda x: x.split(\" \"), text_l))\n",
    "                        \n",
    "            aver_text_l=sum([len(i) for i in text_l_split])/len(text_l)\n",
    "            print(\"Average: \",aver_text_l)\n",
    "                        \n",
    "            kl=0\n",
    "            ku=0\n",
    "            kdig=0\n",
    "            kspace=0\n",
    "            for i in range(len(text)):\n",
    "                if text[i].islower():\n",
    "                    kl+=1\n",
    "                elif text[i].isupper():\n",
    "                    ku+=1\n",
    "                elif text[i].isdigit():\n",
    "                    kdig+=1\n",
    "                elif text[i]==\" \":\n",
    "                    kspace+=1\n",
    "            print(\"Amount of lowercases:\",kl)\n",
    "            print(\"Amount of uppercases:\",ku)\n",
    "            print(\"Amount of digits:\",kdig)\n",
    "            print(\"Amount of spaces:\",kspace)\n",
    "    except Exception as e:\n",
    "        print(e)"
   ]
  }
 ],
 "metadata": {
  "kernelspec": {
   "display_name": "Python 3",
   "language": "python",
   "name": "python3"
  },
  "language_info": {
   "codemirror_mode": {
    "name": "ipython",
    "version": 3
   },
   "file_extension": ".py",
   "mimetype": "text/x-python",
   "name": "python",
   "nbconvert_exporter": "python",
   "pygments_lexer": "ipython3",
   "version": "3.7.4"
  }
 },
 "nbformat": 4,
 "nbformat_minor": 4
}
