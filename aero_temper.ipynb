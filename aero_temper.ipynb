{
 "cells": [
  {
   "cell_type": "code",
   "execution_count": 19,
   "metadata": {},
   "outputs": [],
   "source": [
    "def aero_temper(stat):\n",
    "    try:\n",
    "        with open(stat) as reader:\n",
    "            lst=reader.readlines()\n",
    "            lst=list(map(lambda x: float(x.strip()),lst))\n",
    "            mint=min(lst)\n",
    "            maxt=max(lst)\n",
    "            avert=sum(lst)/len(lst)\n",
    "            uniq=len(list({i: lst.count(i) for i in lst}.values()))\n",
    "            return (mint,maxt,avert,uniq)\n",
    "    except Exception as e:\n",
    "        print(e)"
   ]
  },
  {
   "cell_type": "code",
   "execution_count": null,
   "metadata": {},
   "outputs": [],
   "source": []
  }
 ],
 "metadata": {
  "kernelspec": {
   "display_name": "Python 3",
   "language": "python",
   "name": "python3"
  },
  "language_info": {
   "codemirror_mode": {
    "name": "ipython",
    "version": 3
   },
   "file_extension": ".py",
   "mimetype": "text/x-python",
   "name": "python",
   "nbconvert_exporter": "python",
   "pygments_lexer": "ipython3",
   "version": "3.7.4"
  }
 },
 "nbformat": 4,
 "nbformat_minor": 4
}
