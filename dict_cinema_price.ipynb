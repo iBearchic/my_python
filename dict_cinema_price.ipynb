{
 "cells": [
  {
   "cell_type": "code",
   "execution_count": 5,
   "metadata": {},
   "outputs": [
    {
     "name": "stdin",
     "output_type": "stream",
     "text": [
      "Какой фильм?:  Паразиты\n",
      "Сегодня или завтра? сегодня\n",
      "На какое время? 12\n",
      "Сколько билетов? 25\n"
     ]
    },
    {
     "name": "stdout",
     "output_type": "stream",
     "text": [
      "5000.0\n"
     ]
    }
   ],
   "source": [
    "dic={\"Паразиты\":\n",
    "     {\"time_price\":\n",
    "      {12: 250,16: 350,20: 450}},\n",
    "     \"1917\":\n",
    "     {\"time_price\":\n",
    "      {10: 250,13: 350,16: 350}},\n",
    "     \"Соник в кино\":\n",
    "     {\"time_price\":\n",
    "      {10: 350,14: 450,18: 450}}}\n",
    "\n",
    "film=input(\"Какой фильм?: \")\n",
    "date=input(\"Сегодня или завтра?\")\n",
    "time=int(input(\"На какое время?\"))\n",
    "amount=int(input(\"Сколько билетов?\"))\n",
    "\n",
    "if date.lower()==\"сегодня\":\n",
    "    if amount>=20:\n",
    "        x=0.2\n",
    "else:\n",
    "    if amount>=20:\n",
    "        x=0.25\n",
    "    else:\n",
    "        x=0.05\n",
    "print(dic[film][\"time_price\"][time]*amount*(1-x))\n",
    "    "
   ]
  },
  {
   "cell_type": "code",
   "execution_count": null,
   "metadata": {},
   "outputs": [],
   "source": []
  }
 ],
 "metadata": {
  "kernelspec": {
   "display_name": "Python 3",
   "language": "python",
   "name": "python3"
  },
  "language_info": {
   "codemirror_mode": {
    "name": "ipython",
    "version": 3
   },
   "file_extension": ".py",
   "mimetype": "text/x-python",
   "name": "python",
   "nbconvert_exporter": "python",
   "pygments_lexer": "ipython3",
   "version": "3.7.4"
  }
 },
 "nbformat": 4,
 "nbformat_minor": 4
}
