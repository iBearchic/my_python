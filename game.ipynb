{
 "cells": [
  {
   "cell_type": "code",
   "execution_count": 50,
   "metadata": {},
   "outputs": [],
   "source": [
    "import random\n",
    "dict={0:\"АК-47\" ,1:\"Скейт\", 2:\"Уникальный\"}\n",
    "class NormalPer:\n",
    "    def __init__(self,name='без имени',x=0,y=0):\n",
    "        self.name = name\n",
    "        self.x=x\n",
    "        self.y=y\n",
    "        self.item={0: 0 ,1: 0 , 2: 0 }\n",
    "        print(\"Появился новый персонаж {0}\".format(self.name))\n",
    "        \n",
    "    def set_name(self,name):\n",
    "        self.name=name\n",
    "        print(\"Присвоено новое имя\")\n",
    "        \n",
    "    def position(self):\n",
    "        print('Координаты персонажа:',(self.x,self.y))\n",
    "        \n",
    "    def say(self):\n",
    "         print(\"{0} говорит\".format(self.name))\n",
    "            \n",
    "    def run(self,nx,ny):\n",
    "        self.x+=nx\n",
    "        self.y+=ny\n",
    "        print(\"{0} бежит в точку {1}\".format(self.name,(self.x,self.y)))\n",
    "    \n",
    "    def bang(self):\n",
    "        print(\"{0} открыл огонь\".format(self.name))\n",
    "        \n",
    "    def collect(self):\n",
    "        if (self.x+self.y)%2==0:\n",
    "            print(\"{0} лутает клетку и находит предмет\".format(self.name))\n",
    "            m=random.randint(0,1)\n",
    "            self.item[m]+=1\n",
    "            print(\"{0} нашел {1}\".format(self.name,dict[m]))\n",
    "        else:\n",
    "            print(\"В текущей клетке ничего не найдено\")\n",
    "    def item_check(self):\n",
    "        print(\"У персонажа {0} имеется:\\n АК-47: {1} шт.,Скейт: {2} шт.,Уникальный: {3} шт.\".format(self.name,self.item[0],self.item[1],self.item[2]))\n",
    "            \n",
    "class UniqPer(NormalPer):\n",
    "    def __init__(self,name='Персонаж без имени',x=0,y=0):\n",
    "        NormalPer.__init__(self,name=name,x=x,y=y)\n",
    "\n",
    "    def fly(self):\n",
    "        print(\"{0} полетел\".format(self.name))\n",
    "        \n",
    "    def collect(self):\n",
    "        if (self.x+self.y)%2==0:\n",
    "            print(\"{0} лутает клетку и находит предмет\".format(self.name))\n",
    "            m=random.randint(0,2)\n",
    "            self.item[m]+=1\n",
    "            print(\"{0} нашел {1}\".format(self.name,dict[m]))\n",
    "        else:\n",
    "            print(\"В текущей клетке ничего не найдено\")"
   ]
  },
  {
   "cell_type": "code",
   "execution_count": 51,
   "metadata": {},
   "outputs": [
    {
     "name": "stdout",
     "output_type": "stream",
     "text": [
      "Появился новый персонаж Максим\n"
     ]
    }
   ],
   "source": [
    "me=UniqPer('Максим')"
   ]
  },
  {
   "cell_type": "code",
   "execution_count": 52,
   "metadata": {},
   "outputs": [
    {
     "name": "stdout",
     "output_type": "stream",
     "text": [
      "Максим полетел\n"
     ]
    }
   ],
   "source": [
    "me.fly()"
   ]
  },
  {
   "cell_type": "code",
   "execution_count": 53,
   "metadata": {},
   "outputs": [
    {
     "name": "stdout",
     "output_type": "stream",
     "text": [
      "Максим открыл огонь\n"
     ]
    }
   ],
   "source": [
    "me.bang()"
   ]
  },
  {
   "cell_type": "code",
   "execution_count": 54,
   "metadata": {},
   "outputs": [
    {
     "name": "stdout",
     "output_type": "stream",
     "text": [
      "Координаты персонажа: (0, 0)\n"
     ]
    }
   ],
   "source": [
    "me.position()"
   ]
  },
  {
   "cell_type": "code",
   "execution_count": 55,
   "metadata": {},
   "outputs": [
    {
     "name": "stdout",
     "output_type": "stream",
     "text": [
      "Максим бежит в точку (4, 6)\n"
     ]
    }
   ],
   "source": [
    "me.run(4,6)"
   ]
  },
  {
   "cell_type": "code",
   "execution_count": 57,
   "metadata": {},
   "outputs": [
    {
     "name": "stdout",
     "output_type": "stream",
     "text": [
      "Максим лутает клетку и находит предмет\n",
      "Максим нашел Уникальный\n"
     ]
    }
   ],
   "source": [
    "me.collect()"
   ]
  },
  {
   "cell_type": "code",
   "execution_count": 58,
   "metadata": {},
   "outputs": [
    {
     "name": "stdout",
     "output_type": "stream",
     "text": [
      "У персонажа Максим имеется:\n",
      " АК-47: 0 шт.,Скейт: 1 шт.,Уникальный: 1 шт.\n"
     ]
    }
   ],
   "source": [
    "me.item_check()"
   ]
  },
  {
   "cell_type": "code",
   "execution_count": null,
   "metadata": {},
   "outputs": [],
   "source": []
  }
 ],
 "metadata": {
  "kernelspec": {
   "display_name": "Python 3",
   "language": "python",
   "name": "python3"
  },
  "language_info": {
   "codemirror_mode": {
    "name": "ipython",
    "version": 3
   },
   "file_extension": ".py",
   "mimetype": "text/x-python",
   "name": "python",
   "nbconvert_exporter": "python",
   "pygments_lexer": "ipython3",
   "version": "3.7.4"
  }
 },
 "nbformat": 4,
 "nbformat_minor": 4
}
