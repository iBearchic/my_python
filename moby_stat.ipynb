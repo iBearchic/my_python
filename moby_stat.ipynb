{
 "cells": [
  {
   "cell_type": "code",
   "execution_count": null,
   "metadata": {},
   "outputs": [],
   "source": [
    "#вместо txt нужно будет вставить \"moby_clean.txt\"\n",
    "def moby_stat(txt):\n",
    "    with open(txt) as reader:\n",
    "        lst=reader.readlines()\n",
    "        dic={i: lst.count(i) for i in lst}\n",
    "        op=sorted(list(dic.values()))\n",
    "        maxt=op[:5]\n",
    "        mint=op[-5:]\n",
    "        finmx=[i for i in lst if dic[i]==maxt[0] or dic[i]==maxt[1] or dic[i]==maxt[2] or dic[i]==maxt[3] or dic[i]==maxt[4]][:5]\n",
    "        finmn=[i for i in lst if dic[i]==mint[0] or dic[i]==mint[1] or dic[i]==mint[2] or dic[i]==mint[3] or dic[i]==mint[4]][:5]\n",
    "    return finmx+finmn"
   ]
  },
  {
   "cell_type": "code",
   "execution_count": null,
   "metadata": {},
   "outputs": [],
   "source": []
  }
 ],
 "metadata": {
  "kernelspec": {
   "display_name": "Python 3",
   "language": "python",
   "name": "python3"
  },
  "language_info": {
   "codemirror_mode": {
    "name": "ipython",
    "version": 3
   },
   "file_extension": ".py",
   "mimetype": "text/x-python",
   "name": "python",
   "nbconvert_exporter": "python",
   "pygments_lexer": "ipython3",
   "version": "3.7.4"
  }
 },
 "nbformat": 4,
 "nbformat_minor": 4
}
