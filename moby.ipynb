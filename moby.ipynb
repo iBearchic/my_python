{
 "cells": [
  {
   "cell_type": "code",
   "execution_count": 24,
   "metadata": {},
   "outputs": [],
   "source": [
    "def moby_clear(txt):\n",
    "    trantab=str.maketrans(\"\",\"\",\".,;:-\")\n",
    "    trantab1=str.maketrans({\"\\n\":None})\n",
    "    with open(txt,\"r\") as moby, open(\"moby_clean.txt\",\"a\") as writer:\n",
    "        cor=moby.read().lower()\n",
    "        cor=cor.translate(trantab).translate(trantab1)\n",
    "        for i in cor.split():\n",
    "            writer.write(\"\".join([i,\"\\n\"]))"
   ]
  },
  {
   "cell_type": "code",
   "execution_count": null,
   "metadata": {},
   "outputs": [],
   "source": []
  }
 ],
 "metadata": {
  "kernelspec": {
   "display_name": "Python 3",
   "language": "python",
   "name": "python3"
  },
  "language_info": {
   "codemirror_mode": {
    "name": "ipython",
    "version": 3
   },
   "file_extension": ".py",
   "mimetype": "text/x-python",
   "name": "python",
   "nbconvert_exporter": "python",
   "pygments_lexer": "ipython3",
   "version": "3.7.4"
  }
 },
 "nbformat": 4,
 "nbformat_minor": 4
}
