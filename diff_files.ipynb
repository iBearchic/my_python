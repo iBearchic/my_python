{
 "cells": [
  {
   "cell_type": "code",
   "execution_count": 16,
   "metadata": {},
   "outputs": [],
   "source": [
    "def diff_files(f1,f2):\n",
    "    try:\n",
    "        trantab=str.maketrans(\"\",\"\",\",.?!;:-\")\n",
    "        trantab1=str.maketrans({\"\\n\": \" \"})\n",
    "        with open(f1,\"r\") as reader1, open(f2,\"r\") as reader2:\n",
    "            text1=reader1.read().translate(trantab).translate(trantab1)\n",
    "            text2=reader2.read().translate(trantab).translate(trantab1)\n",
    "            lst1=text1.split(\" \")\n",
    "            lst2=text2.split(\" \")\n",
    "            print(\"Uniq words in {0}:\".format(f1), set(lst1))\n",
    "            print(\"Uniq words in {0}:\".format(f2), set(lst2))\n",
    "            print(\"Union: \", set(lst1).union(set(lst2)))\n",
    "            inter=set(lst1).intersection(set(lst2))\n",
    "            print(\"Only in {0}:\".format(f1),set(lst1)-inter)\n",
    "            print(\"Only in {0}:\".format(f2),set(lst2)-inter)\n",
    "            print(\"All only in words:\",set(lst1).union(set(lst2))-inter)\n",
    "    except Exception as e:\n",
    "        print(e)"
   ]
  },
  {
   "cell_type": "code",
   "execution_count": null,
   "metadata": {},
   "outputs": [],
   "source": []
  }
 ],
 "metadata": {
  "kernelspec": {
   "display_name": "Python 3",
   "language": "python",
   "name": "python3"
  },
  "language_info": {
   "codemirror_mode": {
    "name": "ipython",
    "version": 3
   },
   "file_extension": ".py",
   "mimetype": "text/x-python",
   "name": "python",
   "nbconvert_exporter": "python",
   "pygments_lexer": "ipython3",
   "version": "3.7.4"
  }
 },
 "nbformat": 4,
 "nbformat_minor": 4
}
