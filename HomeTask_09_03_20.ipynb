{
 "cells": [
  {
   "cell_type": "code",
   "execution_count": 12,
   "metadata": {},
   "outputs": [
    {
     "data": {
      "text/plain": [
       "([1.4142135623730951, 2.0, 3.0, 4.0, 5.0],\n",
       " [1.4142135623730951, 2.0, 3.0, 4.0, 5.0],\n",
       " [1.4142135623730951, 2.0, 3.0, 4.0, 5.0])"
      ]
     },
     "execution_count": 12,
     "metadata": {},
     "output_type": "execute_result"
    }
   ],
   "source": [
    "import math\n",
    "#упражнение 6.2\n",
    "l=[2,4,9,16,25]\n",
    "b=[math.sqrt(i) for i in l]\n",
    "c=list(map(lambda x: math.sqrt(x),l))\n",
    "d=l\n",
    "for i in range(len(l)): d[i]=math.sqrt(d[i])\n",
    "b,c,d  "
   ]
  },
  {
   "cell_type": "code",
   "execution_count": 18,
   "metadata": {},
   "outputs": [
    {
     "data": {
      "text/plain": [
       "['John', 'Paul']"
      ]
     },
     "execution_count": 18,
     "metadata": {},
     "output_type": "execute_result"
    }
   ],
   "source": [
    "#упражнение 6.3\n",
    "spisok=['John', 'Paul', 'George', 'Ringo']\n",
    "y=['John', 'Paul']\n",
    "k=[i for i in spisok if i in y]\n",
    "k\n"
   ]
  },
  {
   "cell_type": "code",
   "execution_count": 32,
   "metadata": {},
   "outputs": [],
   "source": [
    "#упражнение 6.4\n",
    "def flatten(x):\n",
    "    return [j for i in range(len(x)) for j in x[i]]\n",
    "\n",
    "\n",
    "def ly_sho(tab):\n",
    "    if max([max(i) for i in tab])<=9:\n",
    "        if sum(flatten(tab))==45:\n",
    "            s1=sum([i[0] for i in tab])\n",
    "            s2=sum([i[1] for i in tab])\n",
    "            s3=sum([i[2] for i in tab])\n",
    "            sd1=sum([tab[i][i] for i in range(len(tab))])\n",
    "            sd2=sum([tab[2-i][i] for i in range(len(tab))])\n",
    "            return s1==s2==s3==sd1==sd2==15\n",
    "        else:\n",
    "            return False\n",
    "    else:\n",
    "        return False"
   ]
  },
  {
   "cell_type": "code",
   "execution_count": 36,
   "metadata": {},
   "outputs": [],
   "source": [
    "import random\n",
    "#упражнение 7.1\n",
    "#\n",
    "def game(on):\n",
    "    m=random.randint(1,50)\n",
    "    while True:\n",
    "        x=input(\"Введите число\")\n",
    "        if x.isdigit():\n",
    "            x=int(x)\n",
    "            if x>m:\n",
    "                print(\"Больше загаданного\")\n",
    "            elif x<m:\n",
    "                print(\"Меньше загаданного\")\n",
    "            else:\n",
    "                print(\"Победа!\")\n",
    "                break\n",
    "        elif x.lower()==\"выход\":\n",
    "            break\n",
    "        else:\n",
    "            print(\"Что-то пошло не так. Введите число еще раз\")    "
   ]
  },
  {
   "cell_type": "code",
   "execution_count": 40,
   "metadata": {},
   "outputs": [
    {
     "name": "stdin",
     "output_type": "stream",
     "text": [
      "Введите число 3456789\n"
     ]
    },
    {
     "data": {
      "text/plain": [
       "164"
      ]
     },
     "execution_count": 40,
     "metadata": {},
     "output_type": "execute_result"
    }
   ],
   "source": [
    "#упражнение 7.2\n",
    "m1=input(\"Введите число\")\n",
    "sum(list(map(lambda x: int(x)**2,list(m1)[0::2])))"
   ]
  },
  {
   "cell_type": "code",
   "execution_count": 61,
   "metadata": {},
   "outputs": [
    {
     "name": "stdin",
     "output_type": "stream",
     "text": [
      "Введите число:  56\n",
      "Введите число:  45\n",
      "Введите число:  23\n",
      "Введите число:  стоп\n"
     ]
    },
    {
     "data": {
      "text/plain": [
       "124"
      ]
     },
     "execution_count": 61,
     "metadata": {},
     "output_type": "execute_result"
    }
   ],
   "source": [
    "#упражнение 7.3\n",
    "s=0\n",
    "while True:\n",
    "    x=input(\"Введите число: \")\n",
    "    if x.isdigit():\n",
    "        s+=int(x)\n",
    "    elif x.lower()==\"стоп\":\n",
    "        break\n",
    "    else:\n",
    "        print(\"Введите число еще раз\")\n",
    "s\n"
   ]
  },
  {
   "cell_type": "code",
   "execution_count": 60,
   "metadata": {},
   "outputs": [
    {
     "name": "stdout",
     "output_type": "stream",
     "text": [
      "Мой дядя самых честных правил, Когда не в шутку занемог, Он уважать себя заставил И лучше выдумать не\n"
     ]
    }
   ],
   "source": [
    "#упражнение 7.4\n",
    "k=\"Мой дядя самых честных правил, \\\n",
    "Когда не в шутку занемог, \\\n",
    "Он уважать себя заставил \\\n",
    "И лучше выдумать не мог\"\n",
    "\n",
    "k=k.split()\n",
    "k=[i for i in k if not i.startswith('м')]\n",
    "print(' '.join(k))"
   ]
  },
  {
   "cell_type": "code",
   "execution_count": 84,
   "metadata": {},
   "outputs": [
    {
     "data": {
      "text/plain": [
       "3452.4683"
      ]
     },
     "execution_count": 84,
     "metadata": {},
     "output_type": "execute_result"
    }
   ],
   "source": [
    "#упражнение 7.5\n",
    "s = '''В разные эпохи и у разных народов число Пи имело разное значение. Например, в Древнем Египте оно равнялось 3.1604 у индусов оно приобрело значение 3.162 китайцы пользовались числом, равным 3.1459 Буквенное обозначение число Пи получило только в 1706 году – оно происходит от начальных букв двух греческих слов, означающих окружность и периметр. Буквой π число наделил математик Джонс, а прочно вошла в математику она уже в 1737 году.'''\n",
    "s=s.split()\n",
    "s=[i for i in s if i[:1].isdigit()]\n",
    "s=list(map(float,s))\n",
    "s=sum(s)\n",
    "s"
   ]
  },
  {
   "cell_type": "code",
   "execution_count": 2,
   "metadata": {},
   "outputs": [
    {
     "name": "stdin",
     "output_type": "stream",
     "text": [
      "Укажите число:  1\n",
      "Сформулируйте задачу:  купить\n",
      "Добавьте категорию к задаче:  покупка\n",
      "Добавьте время к задаче:  12\n",
      "Укажите число:  2\n"
     ]
    },
    {
     "name": "stdout",
     "output_type": "stream",
     "text": [
      "Задача: купить Категория: покупка Время: 12\n"
     ]
    },
    {
     "name": "stdin",
     "output_type": "stream",
     "text": [
      "Укажите число:  3\n"
     ]
    }
   ],
   "source": [
    "#упражнение 7.6\n",
    "p=[]\n",
    "while True:\n",
    "    x=int(input(\"Укажите число: \"))\n",
    "    if x==1:\n",
    "        a1=input(\"Сформулируйте задачу: \")\n",
    "        a2=input(\"Добавьте категорию к задаче: \")\n",
    "        a3=input(\"Добавьте время к задаче: \")\n",
    "        a=f'Задача: {a1} Категория: {a2} Время: {a3}'\n",
    "        p.append(a)\n",
    "    elif x==2:\n",
    "        d=p\n",
    "        for i in range(len(p)):\n",
    "              print(d.pop())\n",
    "    else:\n",
    "        break"
   ]
  },
  {
   "cell_type": "code",
   "execution_count": 88,
   "metadata": {},
   "outputs": [
    {
     "data": {
      "text/plain": [
       "93.84460105853213"
      ]
     },
     "execution_count": 88,
     "metadata": {},
     "output_type": "execute_result"
    }
   ],
   "source": [
    "#упражнение 7.7\n",
    "s=sum([(i+1)/(30-i) for i in range(30)])\n",
    "s"
   ]
  },
  {
   "cell_type": "code",
   "execution_count": 89,
   "metadata": {},
   "outputs": [
    {
     "name": "stdin",
     "output_type": "stream",
     "text": [
      "Введите свой вес:  68\n"
     ]
    },
    {
     "data": {
      "text/plain": [
       "[66.5, 65.0, 63.5, 62.0, 60.5, 59.0]"
      ]
     },
     "execution_count": 89,
     "metadata": {},
     "output_type": "execute_result"
    }
   ],
   "source": [
    "#упражнение 7.8\n",
    "s=float(input(\"Введите свой вес: \"))\n",
    "k=[s-1.5*(i+1) for i in range(6)]\n",
    "k"
   ]
  }
 ],
 "metadata": {
  "kernelspec": {
   "display_name": "Python 3",
   "language": "python",
   "name": "python3"
  },
  "language_info": {
   "codemirror_mode": {
    "name": "ipython",
    "version": 3
   },
   "file_extension": ".py",
   "mimetype": "text/x-python",
   "name": "python",
   "nbconvert_exporter": "python",
   "pygments_lexer": "ipython3",
   "version": "3.7.4"
  }
 },
 "nbformat": 4,
 "nbformat_minor": 4
}
