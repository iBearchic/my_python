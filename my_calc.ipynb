{
 "cells": [
  {
   "cell_type": "code",
   "execution_count": null,
   "metadata": {},
   "outputs": [],
   "source": [
    "def calc():\n",
    "    while True:\n",
    "        try:\n",
    "            x=input(\"Введите первое число\")\n",
    "            y=input(\"Введите второе число\")\n",
    "            z=input(\"Введите оператор число\")\n",
    "            l=\"\".join([x,z,y])\n",
    "            return eval(l)\n",
    "        except NameError:\n",
    "            print(\"Одно из чисел числом не является числом\")\n",
    "        except ZeroDivisionError:\n",
    "            print(\"Делить на ноль нельзя\")"
   ]
  },
  {
   "cell_type": "code",
   "execution_count": null,
   "metadata": {},
   "outputs": [],
   "source": []
  }
 ],
 "metadata": {
  "kernelspec": {
   "display_name": "Python 3",
   "language": "python",
   "name": "python3"
  },
  "language_info": {
   "codemirror_mode": {
    "name": "ipython",
    "version": 3
   },
   "file_extension": ".py",
   "mimetype": "text/x-python",
   "name": "python",
   "nbconvert_exporter": "python",
   "pygments_lexer": "ipython3",
   "version": "3.7.4"
  }
 },
 "nbformat": 4,
 "nbformat_minor": 4
}
