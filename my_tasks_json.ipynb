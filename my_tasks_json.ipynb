{
 "cells": [
  {
   "cell_type": "code",
   "execution_count": 7,
   "metadata": {},
   "outputs": [],
   "source": [
    "def todolist():\n",
    "    try:\n",
    "        s=[]\n",
    "        while True:\n",
    "            x=int(input(\"Введите 1,2 или 3: \"))\n",
    "            \n",
    "            if x==3:\n",
    "                with open(\"new_file.json\",\"w\") as writer:\n",
    "                    writer.write('s')\n",
    "                print('file was saved!')\n",
    "                break\n",
    "            elif x==2:\n",
    "                print(s)\n",
    "            else:\n",
    "                name=input(\"Сформулируйте задачу: \")\n",
    "                cat=input(\"Напишите категорию: \")\n",
    "                t=input(\"Установите сроки: \")\n",
    "                s.append({\"category\": cat, \"name\": name, \"time\": t})\n",
    "    except Exception as e:\n",
    "        print(e)"
   ]
  },
  {
   "cell_type": "code",
   "execution_count": null,
   "metadata": {},
   "outputs": [],
   "source": []
  }
 ],
 "metadata": {
  "kernelspec": {
   "display_name": "Python 3",
   "language": "python",
   "name": "python3"
  },
  "language_info": {
   "codemirror_mode": {
    "name": "ipython",
    "version": 3
   },
   "file_extension": ".py",
   "mimetype": "text/x-python",
   "name": "python",
   "nbconvert_exporter": "python",
   "pygments_lexer": "ipython3",
   "version": "3.7.4"
  }
 },
 "nbformat": 4,
 "nbformat_minor": 4
}
